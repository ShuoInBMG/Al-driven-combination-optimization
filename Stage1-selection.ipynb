{
 "cells": [
  {
   "cell_type": "markdown",
   "id": "407eb499",
   "metadata": {},
   "source": [
    "Code for \"AI-driven high-throughput droplet screening of cell-free gene expression\"\n",
    "by Yang Shuo"
   ]
  },
  {
   "cell_type": "markdown",
   "id": "5b27ce9f-9253-4ff3-8645-00ec90f9efed",
   "metadata": {},
   "source": [
    "### import modules"
   ]
  },
  {
   "cell_type": "code",
   "execution_count": 1,
   "id": "5603d10b-4e4c-478a-a085-60a189d53496",
   "metadata": {},
   "outputs": [],
   "source": [
    "import numpy as np\n",
    "import pandas as pd\n",
    "import matplotlib.pyplot as plt\n",
    "%matplotlib inline"
   ]
  },
  {
   "cell_type": "code",
   "execution_count": 2,
   "id": "aa83ee7f-c19a-442f-8ab6-8d5aa6193483",
   "metadata": {},
   "outputs": [],
   "source": [
    "from tensorflow.keras.models import Sequential,load_model\n",
    "from tensorflow.keras import layers\n",
    "\n",
    "from sklearn.model_selection import train_test_split"
   ]
  },
  {
   "cell_type": "markdown",
   "id": "c8e007f1-4f3e-4000-bdc1-b9f3d87cb8f4",
   "metadata": {},
   "source": [
    "### read data"
   ]
  },
  {
   "cell_type": "code",
   "execution_count": 3,
   "id": "b4ec9ef0-05db-4905-86b9-e8ba2f7cfc1d",
   "metadata": {},
   "outputs": [],
   "source": [
    "data = pd.read_csv(\"task_1.csv\",header=None)"
   ]
  },
  {
   "cell_type": "markdown",
   "id": "5cd4b1c2-7bad-40be-aae7-702ad2d37ee3",
   "metadata": {},
   "source": [
    "### Print the first five lines\n",
    "** Column 0 ** : Average value  \n",
    "** Column 1 ** : Standard deviation  \n",
    "** Columns 2-13 ** : Combine one-hot encoding"
   ]
  },
  {
   "cell_type": "code",
   "execution_count": 4,
   "id": "1d930004-b7e0-47ed-89e2-913b58175c9f",
   "metadata": {},
   "outputs": [
    {
     "data": {
      "text/html": [
       "<div>\n",
       "<style scoped>\n",
       "    .dataframe tbody tr th:only-of-type {\n",
       "        vertical-align: middle;\n",
       "    }\n",
       "\n",
       "    .dataframe tbody tr th {\n",
       "        vertical-align: top;\n",
       "    }\n",
       "\n",
       "    .dataframe thead th {\n",
       "        text-align: right;\n",
       "    }\n",
       "</style>\n",
       "<table border=\"1\" class=\"dataframe\">\n",
       "  <thead>\n",
       "    <tr style=\"text-align: right;\">\n",
       "      <th></th>\n",
       "      <th>0</th>\n",
       "      <th>1</th>\n",
       "      <th>2</th>\n",
       "      <th>3</th>\n",
       "      <th>4</th>\n",
       "      <th>5</th>\n",
       "      <th>6</th>\n",
       "      <th>7</th>\n",
       "      <th>8</th>\n",
       "      <th>9</th>\n",
       "      <th>...</th>\n",
       "      <th>19</th>\n",
       "      <th>20</th>\n",
       "      <th>21</th>\n",
       "      <th>22</th>\n",
       "      <th>23</th>\n",
       "      <th>24</th>\n",
       "      <th>25</th>\n",
       "      <th>26</th>\n",
       "      <th>27</th>\n",
       "      <th>28</th>\n",
       "    </tr>\n",
       "  </thead>\n",
       "  <tbody>\n",
       "    <tr>\n",
       "      <th>0</th>\n",
       "      <td>11888.280700</td>\n",
       "      <td>2475.410484</td>\n",
       "      <td>1</td>\n",
       "      <td>1</td>\n",
       "      <td>1</td>\n",
       "      <td>1</td>\n",
       "      <td>1</td>\n",
       "      <td>1</td>\n",
       "      <td>1</td>\n",
       "      <td>1</td>\n",
       "      <td>...</td>\n",
       "      <td>8960</td>\n",
       "      <td>9216</td>\n",
       "      <td>4864</td>\n",
       "      <td>9984</td>\n",
       "      <td>9984</td>\n",
       "      <td>10240</td>\n",
       "      <td>10240</td>\n",
       "      <td>10496</td>\n",
       "      <td>10496</td>\n",
       "      <td>10496</td>\n",
       "    </tr>\n",
       "    <tr>\n",
       "      <th>1</th>\n",
       "      <td>9635.495798</td>\n",
       "      <td>2840.493753</td>\n",
       "      <td>1</td>\n",
       "      <td>1</td>\n",
       "      <td>1</td>\n",
       "      <td>0</td>\n",
       "      <td>1</td>\n",
       "      <td>1</td>\n",
       "      <td>1</td>\n",
       "      <td>1</td>\n",
       "      <td>...</td>\n",
       "      <td>4864</td>\n",
       "      <td>4864</td>\n",
       "      <td>5888</td>\n",
       "      <td>4864</td>\n",
       "      <td>5120</td>\n",
       "      <td>5120</td>\n",
       "      <td>5120</td>\n",
       "      <td>5632</td>\n",
       "      <td>5632</td>\n",
       "      <td>5888</td>\n",
       "    </tr>\n",
       "    <tr>\n",
       "      <th>2</th>\n",
       "      <td>9732.196721</td>\n",
       "      <td>3965.244098</td>\n",
       "      <td>1</td>\n",
       "      <td>1</td>\n",
       "      <td>1</td>\n",
       "      <td>1</td>\n",
       "      <td>0</td>\n",
       "      <td>1</td>\n",
       "      <td>1</td>\n",
       "      <td>1</td>\n",
       "      <td>...</td>\n",
       "      <td>5632</td>\n",
       "      <td>5632</td>\n",
       "      <td>9984</td>\n",
       "      <td>5888</td>\n",
       "      <td>5888</td>\n",
       "      <td>5888</td>\n",
       "      <td>6144</td>\n",
       "      <td>6144</td>\n",
       "      <td>6400</td>\n",
       "      <td>6400</td>\n",
       "    </tr>\n",
       "    <tr>\n",
       "      <th>3</th>\n",
       "      <td>12901.052630</td>\n",
       "      <td>2003.605855</td>\n",
       "      <td>1</td>\n",
       "      <td>1</td>\n",
       "      <td>1</td>\n",
       "      <td>1</td>\n",
       "      <td>1</td>\n",
       "      <td>0</td>\n",
       "      <td>1</td>\n",
       "      <td>1</td>\n",
       "      <td>...</td>\n",
       "      <td>9728</td>\n",
       "      <td>9984</td>\n",
       "      <td>15104</td>\n",
       "      <td>9984</td>\n",
       "      <td>10240</td>\n",
       "      <td>10496</td>\n",
       "      <td>10496</td>\n",
       "      <td>10752</td>\n",
       "      <td>11008</td>\n",
       "      <td>11520</td>\n",
       "    </tr>\n",
       "    <tr>\n",
       "      <th>4</th>\n",
       "      <td>15669.132080</td>\n",
       "      <td>2356.119414</td>\n",
       "      <td>1</td>\n",
       "      <td>1</td>\n",
       "      <td>1</td>\n",
       "      <td>1</td>\n",
       "      <td>1</td>\n",
       "      <td>1</td>\n",
       "      <td>0</td>\n",
       "      <td>1</td>\n",
       "      <td>...</td>\n",
       "      <td>13824</td>\n",
       "      <td>15104</td>\n",
       "      <td>9216</td>\n",
       "      <td>17920</td>\n",
       "      <td>14848</td>\n",
       "      <td>15872</td>\n",
       "      <td>12288</td>\n",
       "      <td>12544</td>\n",
       "      <td>13056</td>\n",
       "      <td>13568</td>\n",
       "    </tr>\n",
       "  </tbody>\n",
       "</table>\n",
       "<p>5 rows × 29 columns</p>\n",
       "</div>"
      ],
      "text/plain": [
       "             0            1   2   3   4   5   6   7   8   9   ...     19  \\\n",
       "0  11888.280700  2475.410484   1   1   1   1   1   1   1   1  ...   8960   \n",
       "1   9635.495798  2840.493753   1   1   1   0   1   1   1   1  ...   4864   \n",
       "2   9732.196721  3965.244098   1   1   1   1   0   1   1   1  ...   5632   \n",
       "3  12901.052630  2003.605855   1   1   1   1   1   0   1   1  ...   9728   \n",
       "4  15669.132080  2356.119414   1   1   1   1   1   1   0   1  ...  13824   \n",
       "\n",
       "      20     21     22     23     24     25     26     27     28  \n",
       "0   9216   4864   9984   9984  10240  10240  10496  10496  10496  \n",
       "1   4864   5888   4864   5120   5120   5120   5632   5632   5888  \n",
       "2   5632   9984   5888   5888   5888   6144   6144   6400   6400  \n",
       "3   9984  15104   9984  10240  10496  10496  10752  11008  11520  \n",
       "4  15104   9216  17920  14848  15872  12288  12544  13056  13568  \n",
       "\n",
       "[5 rows x 29 columns]"
      ]
     },
     "execution_count": 4,
     "metadata": {},
     "output_type": "execute_result"
    }
   ],
   "source": [
    "data.head(5)"
   ]
  },
  {
   "cell_type": "markdown",
   "id": "8c411846-9e4a-4833-8bcd-4642a9b9e6b3",
   "metadata": {},
   "source": [
    "### Assign data\n",
    "Normalized GFP, divided by the maximum value"
   ]
  },
  {
   "cell_type": "code",
   "execution_count": 5,
   "id": "667145be-42f0-4dba-aadb-dac8d1b65fd3",
   "metadata": {},
   "outputs": [
    {
     "name": "stdout",
     "output_type": "stream",
     "text": [
      "data_x: (100, 12)\n",
      "data_y: (100, 1)\n"
     ]
    }
   ],
   "source": [
    "data = np.array(data)\n",
    "data_y = (data[:,0]/np.max(data[:,0])).reshape(-1,1)\n",
    "data_x = data[:,2:14]\n",
    "print(\"data_x:\",data_x.shape)\n",
    "print(\"data_y:\",data_y.shape)"
   ]
  },
  {
   "cell_type": "code",
   "execution_count": 6,
   "id": "19d8ff1c-beb4-4358-85cf-8e3082f617eb",
   "metadata": {},
   "outputs": [
    {
     "data": {
      "text/plain": [
       "16053.67742"
      ]
     },
     "execution_count": 6,
     "metadata": {},
     "output_type": "execute_result"
    }
   ],
   "source": [
    "np.max(data[:,0])"
   ]
  },
  {
   "cell_type": "code",
   "execution_count": 7,
   "id": "7c952b21-44cd-4164-89e0-80aff3c0a665",
   "metadata": {},
   "outputs": [
    {
     "name": "stdout",
     "output_type": "stream",
     "text": [
      "[1. 1. 1. 1. 1. 1. 1. 1. 0. 0. 0. 0.]\n",
      "[0.74053317]\n"
     ]
    }
   ],
   "source": [
    "print(data_x[0])\n",
    "print(data_y[0])\n",
    "np.save(\"data_y.npy\",data_y)\n",
    "np.save(\"data_x.npy\",data_x)"
   ]
  },
  {
   "cell_type": "markdown",
   "id": "3afe84a5-59c6-436e-bbba-fefb424b66c6",
   "metadata": {},
   "source": [
    "### Divide the data set randomly"
   ]
  },
  {
   "cell_type": "code",
   "execution_count": 8,
   "id": "e9990ba3-1735-4913-980a-a90be529b8ee",
   "metadata": {},
   "outputs": [],
   "source": [
    "X_train,X_val,y_train,y_val = train_test_split(data_x, \n",
    "                                               data_y, \n",
    "                                               test_size=0.3)"
   ]
  },
  {
   "cell_type": "markdown",
   "id": "5395bb87-a2e4-4d4e-91d2-cae8b7e8f6cb",
   "metadata": {},
   "source": [
    "### Build model"
   ]
  },
  {
   "cell_type": "code",
   "execution_count": 9,
   "id": "39014c45-b49d-4074-88f0-3a865b20adcc",
   "metadata": {},
   "outputs": [],
   "source": [
    "def get_1d_model():\n",
    "    model = Sequential()\n",
    "    model.add(layers.Input(shape=(12,)))\n",
    "    model.add(layers.Dense(32))\n",
    "    model.add(layers.Dense(32, activation = \"relu\"))\n",
    "    model.add(layers.Dense(16, activation = \"relu\"))\n",
    "    model.add(layers.Dropout(0.25))\n",
    "    model.add(layers.Dense(16, activation = \"tanh\"))\n",
    "    model.add(layers.Dense(8, activation = \"tanh\"))\n",
    "    model.add(layers.Dense(8, activation = \"tanh\"))\n",
    "    model.add(layers.Dropout(0.25))\n",
    "    model.add(layers.Dense(1))\n",
    "\n",
    "    model.compile(optimizer=\"adam\",loss=\"mape\")\n",
    "    return model"
   ]
  },
  {
   "cell_type": "markdown",
   "id": "2ad0c310-8949-4e42-8ea8-bef6967796c8",
   "metadata": {
    "tags": []
   },
   "source": [
    "### Training"
   ]
  },
  {
   "cell_type": "code",
   "execution_count": 10,
   "id": "72497829-497a-48e6-a993-10e69d882ba6",
   "metadata": {
    "tags": []
   },
   "outputs": [],
   "source": [
    "model = get_1d_model()\n",
    "epochs = 5000\n",
    "history = model.fit(X_train, y_train, \n",
    "                    shuffle=True,\n",
    "                    batch_size = 100,\n",
    "                    epochs=epochs,\n",
    "                    validation_data = (X_val, y_val),\n",
    "                    verbose=0)"
   ]
  },
  {
   "cell_type": "markdown",
   "id": "3a91ec18-66b8-4e12-a483-f9722a9ae24a",
   "metadata": {},
   "source": [
    "### Draw training history"
   ]
  },
  {
   "cell_type": "code",
   "execution_count": 11,
   "id": "bd0d2187-da38-4154-8a46-c509c77fd200",
   "metadata": {},
   "outputs": [
    {
     "data": {
      "text/plain": [
       "<matplotlib.legend.Legend at 0x2ca4595c280>"
      ]
     },
     "execution_count": 11,
     "metadata": {},
     "output_type": "execute_result"
    },
    {
     "data": {
      "image/png": "[encoded data removed]",
      "text/plain": [
       "<Figure size 640x480 with 1 Axes>"
      ]
     },
     "metadata": {},
     "output_type": "display_data"
    }
   ],
   "source": [
    "loss_history = history.history[\"loss\"]\n",
    "vall_history = history.history[\"val_loss\"]\n",
    "plt.plot(range(epochs), loss_history, label=\"train\")\n",
    "plt.plot(range(epochs), vall_history, label=\"validate\")\n",
    "plt.legend()"
   ]
  },
  {
   "cell_type": "code",
   "execution_count": 13,
   "id": "92a0a494-c5d6-49ef-9a8a-bac47ec0498e",
   "metadata": {},
   "outputs": [],
   "source": [
    "#### 保存模型\n",
    "model.save(\"method2_1.h5\")"
   ]
  },
  {
   "cell_type": "code",
   "execution_count": 14,
   "id": "4d95b9e5-8ced-4042-b96e-005a9c035599",
   "metadata": {
    "tags": []
   },
   "outputs": [],
   "source": [
    "#### 加载模型\n",
    "model = load_model(\"method2_1.h5\")"
   ]
  },
  {
   "cell_type": "markdown",
   "id": "efe8bba2-512a-485b-8feb-0b19838d90aa",
   "metadata": {},
   "source": [
    "### Visualization of model predictive power"
   ]
  },
  {
   "cell_type": "code",
   "execution_count": 15,
   "id": "95d36565-3714-4a72-b1af-b9263ba70392",
   "metadata": {},
   "outputs": [
    {
     "data": {
      "text/plain": [
       "Text(0, 0.5, 'Prediction')"
      ]
     },
     "execution_count": 15,
     "metadata": {},
     "output_type": "execute_result"
    },
    {
     "data": {
      "image/png": "[encoded data removed]",
      "text/plain": [
       "<Figure size 500x500 with 1 Axes>"
      ]
     },
     "metadata": {},
     "output_type": "display_data"
    }
   ],
   "source": [
    "validation = model.predict(data_x)\n",
    "plt.figure(figsize=(5,5))\n",
    "plt.scatter(data_y[:,0], validation[:,0])\n",
    "plt.plot([0,1.2], [0,1.2], color=\"orange\")\n",
    "plt.ylim((0,1.2))\n",
    "plt.xlim((0,1.2))\n",
    "plt.xlabel(\"Target\",fontsize=14)\n",
    "plt.ylabel(\"Prediction\",fontsize=14)"
   ]
  },
  {
   "cell_type": "code",
   "execution_count": 16,
   "id": "a962592a-fad3-4c91-95c7-e7381bb54b73",
   "metadata": {},
   "outputs": [],
   "source": [
    "df = np.concatenate([data_y[:,0].reshape((-1,1)), validation[:,0].reshape((-1,1))], axis=1)\n",
    "df = pd.DataFrame(df)\n",
    "df.to_csv(\"prediction_r2.csv\")"
   ]
  },
  {
   "cell_type": "markdown",
   "id": "f583cb0f-110e-432c-beac-ad782596464e",
   "metadata": {},
   "source": [
    "### Interpretation function\n",
    "real: Used to define the required input constraints, referring to the method of adding the energy supply material \n",
    "inp: All combination cases that satisfy the input constraint  \n",
    "write_opt_tocsv: Writes prediction results to an excel file  "
   ]
  },
  {
   "cell_type": "code",
   "execution_count": 17,
   "id": "649a0b4f-0f71-4031-998c-410b688ca5df",
   "metadata": {},
   "outputs": [
    {
     "data": {
      "text/plain": [
       "(60, 12)"
      ]
     },
     "execution_count": 17,
     "metadata": {},
     "output_type": "execute_result"
    }
   ],
   "source": [
    "def _real_(comb):\n",
    "    sum_1 = np.sum(comb[0:3])\n",
    "    sum_2 = np.sum(comb[3:7])\n",
    "    sum_3 = np.sum(comb[7:])\n",
    "    \n",
    "    if (sum_1 == 1) and (sum_2 == 1) and (sum_3 == 1):\n",
    "        return True\n",
    "    else:\n",
    "        return False\n",
    "inp = []\n",
    "for i in range(4096):\n",
    "    combination = bin(i)[2:]\n",
    "    if len(combination) < 12:\n",
    "        add = \"0\" * (12-len(combination))\n",
    "        c = list(add + combination)\n",
    "        c = np.array(list(c)).astype(\"int\")#.reshape((-1,1))\n",
    "    else:\n",
    "        c = list(combination)\n",
    "        c = np.array(list(c)).astype(\"int\")#.reshape((-1,1))\n",
    "    \n",
    "    if _real_(c) is True:\n",
    "        inp.append(c)\n",
    "        \n",
    "def write_opt_tocsv(y_opt, name):\n",
    "    df = pd.DataFrame(np.array(y_opt))\n",
    "    df.to_csv(name)\n",
    "    \n",
    "inp = np.array(inp)\n",
    "inp.shape"
   ]
  },
  {
   "cell_type": "markdown",
   "id": "82ee3a7b-7994-4fab-8985-5c8981b13570",
   "metadata": {},
   "source": [
    "### Enumerate all available combinations and predict the score\n",
    "Output the highest score and corresponding combinations"
   ]
  },
  {
   "cell_type": "code",
   "execution_count": 18,
   "id": "3c6e1b8a-306d-49b8-98e9-7d5ae7fbac0b",
   "metadata": {},
   "outputs": [
    {
     "name": "stdout",
     "output_type": "stream",
     "text": [
      "[1 0 0 1 0 0 0 1 0 0 0 0]\n",
      "0.9323717\n"
     ]
    }
   ],
   "source": [
    "y_opt = model.predict(inp)\n",
    "print(inp[np.argmax(y_opt)])\n",
    "print(np.max(y_opt))"
   ]
  },
  {
   "cell_type": "markdown",
   "id": "33fd0a63-63fc-4b41-88a5-914f4e6b58bb",
   "metadata": {},
   "source": [
    "### Write prediction results to excel file"
   ]
  },
  {
   "cell_type": "code",
   "execution_count": 19,
   "id": "9cf28ce6-fcf2-46ce-a475-5574ba38d556",
   "metadata": {},
   "outputs": [],
   "source": [
    "write_opt_tocsv(y_opt,\"Opt_opt_2.11.csv\")"
   ]
  },
  {
   "cell_type": "code",
   "execution_count": null,
   "id": "629c32de-4e04-4433-abc5-60105dacbc0e",
   "metadata": {},
   "outputs": [],
   "source": []
  }
 ],
 "metadata": {
  "kernelspec": {
   "display_name": "Python 3 (ipykernel)",
   "language": "python",
   "name": "python3"
  },
  "language_info": {
   "codemirror_mode": {
    "name": "ipython",
    "version": 3
   },
   "file_extension": ".py",
   "mimetype": "text/x-python",
   "name": "python",
   "nbconvert_exporter": "python",
   "pygments_lexer": "ipython3",
   "version": "3.10.11"
  }
 },
 "nbformat": 4,
 "nbformat_minor": 5
}
